{
  "cells": [
    {
      "cell_type": "markdown",
      "metadata": {
        "id": "NQchW9WkYbx0"
      },
      "source": [
        "# **SETUP**"
      ]
    },
    {
      "cell_type": "code",
      "execution_count": null,
      "metadata": {
        "colab": {
          "base_uri": "https://localhost:8080/"
        },
        "id": "3tC-ggUQd6ZC",
        "outputId": "9edf023d-02a7-4b65-f276-2bddc9e22d54"
      },
      "outputs": [
        {
          "name": "stdout",
          "output_type": "stream",
          "text": [
            "Mounted at /content/drive\n"
          ]
        }
      ],
      "source": [
        "from google.colab import drive\n",
        "drive.mount('/content/drive')"
      ]
    },
    {
      "cell_type": "markdown",
      "metadata": {
        "id": "pPKjWAIqd_QJ"
      },
      "source": [
        "# **LIBRARY**"
      ]
    },
    {
      "cell_type": "code",
      "execution_count": null,
      "metadata": {
        "id": "-NbaSsPxd6cA"
      },
      "outputs": [],
      "source": [
        "import datetime\n",
        "import numpy as np\n",
        "import pandas as pd\n",
        "import sklearn\n",
        "import lightgbm as lgb\n",
        "import datetime\n",
        "from sklearn.metrics import mean_squared_error\n",
        "from sklearn.model_selection import KFold, StratifiedKFold\n",
        "\n",
        "import warnings\n",
        "warnings.filterwarnings(\"ignore\")"
      ]
    },
    {
      "cell_type": "code",
      "execution_count": null,
      "metadata": {
        "colab": {
          "base_uri": "https://localhost:8080/"
        },
        "id": "zBhJWGIceEK3",
        "outputId": "94c84d7c-7812-42b2-8a58-bf128ae76cd1"
      },
      "outputs": [
        {
          "name": "stdout",
          "output_type": "stream",
          "text": [
            "pandas== 1.3.5\n",
            "numpy== 1.21.6\n",
            "scikit-learn== 1.0.2\n",
            "lightgbm== 2.2.3\n"
          ]
        }
      ],
      "source": [
        "print(\"pandas==\",pd.__version__)\n",
        "print(\"numpy==\",np.__version__)\n",
        "print(\"scikit-learn==\",sklearn.__version__)\n",
        "print(\"lightgbm==\",lgb.__version__)"
      ]
    },
    {
      "cell_type": "code",
      "execution_count": null,
      "metadata": {
        "id": "SsJvxjKgYPqy"
      },
      "outputs": [],
      "source": [
        "def rmse(y_true, y_pred):\n",
        "    return np.sqrt(mean_squared_error(y_true, y_pred))"
      ]
    },
    {
      "cell_type": "markdown",
      "metadata": {
        "id": "zDFeQthlYfmS"
      },
      "source": [
        "# **Dataset**"
      ]
    },
    {
      "cell_type": "code",
      "execution_count": null,
      "metadata": {
        "id": "lVGX4_SZYPqz"
      },
      "outputs": [],
      "source": [
        "csv_path = \"/content/drive/MyDrive/TrailblazersQualificationChallenge/\"\n",
        "train = pd.read_csv(f'{csv_path}Train.csv')\n",
        "test = pd.read_csv(f'{csv_path}Test.csv')\n",
        "sample_sub = pd.read_csv(f'{csv_path}SampleSubmission.csv')"
      ]
    },
    {
      "cell_type": "markdown",
      "metadata": {
        "id": "jZtjHP8QYPq0"
      },
      "source": [
        "# **Feature Engineering**"
      ]
    },
    {
      "cell_type": "code",
      "execution_count": null,
      "metadata": {
        "id": "HO7vAjx9YPq7"
      },
      "outputs": [],
      "source": [
        "class ProcessData:\n",
        "    \n",
        "    \n",
        "    def preprocess(self, train, test):\n",
        "        ID = 'Place_ID X Date'\n",
        "        LABEL = 'target'\n",
        "        \n",
        "        train['Date'] = pd.to_datetime(train['Date'], format='%Y-%m-%d')\n",
        "        test['Date'] = pd.to_datetime(test['Date'], format='%Y-%m-%d')\n",
        "        \n",
        "        df = pd.concat([train, test]).reset_index(drop=True)\n",
        "        dropCol = ['Date', 'target_count', 'target_min', 'Place_ID X Date',\n",
        "                   'target_variance', 'Place_ID', 'target_max', 'target']\n",
        "        \n",
        "        features = [columns for columns in df.columns if columns not in dropCol]\n",
        "        df['PlaceID_Freq'] = df['Place_ID'].map(df['Place_ID'].value_counts())\n",
        "\n",
        "        for i in range(1, 15):\n",
        "            df[f'target_previous_{i}'] = df.sort_values(by='Date')[LABEL].fillna(method='ffill').shift(i).sort_index()\n",
        "            df[f'target_next_{i}'] = df.sort_values(by='Date')[LABEL].fillna(method='bfill').shift(-i).sort_index()\n",
        "\n",
        "        for i in range(1, 10):\n",
        "            df[f'target_next_exp_{i}'] = df.sort_values(by='Date')[LABEL].shift(i).expanding().mean().fillna(method='ffill').sort_index()\n",
        "            df[f'target_prev_exp_{i}'] = df.sort_values(by='Date')[LABEL].shift(-i).expanding().mean().fillna(method='bfill').sort_index()\n",
        "            \n",
        "        dropColumns = []\n",
        "        for day in range(1, 10):\n",
        "            import math\n",
        "            colName = 'Date' + str(day+1)\n",
        "            df[colName] = df['Date']  + datetime.timedelta(days=day)\n",
        "            dropColumns.append(colName)\n",
        "\n",
        "            for col in ['dayofweek', 'weekofyear', 'days_in_month', 'dayofyear']:\n",
        "                df[colName +\"_\" + col] = getattr(df['Date'].dt, col)\n",
        "                dropColumns.append(colName + \"_\" +  col)\n",
        "                dropColumns.append(colName + \"_\" + col + \"_norm\")\n",
        "                df[colName + \"_\" + col + \"_norm\"] = 2 * math.pi * df[colName +\"_\" + col] / df[colName +\"_\" + col].max()\n",
        "                df[colName + \"_\" + col + \"_sin\"] = np.sin(df[colName + \"_\" + col + \"_norm\"])\n",
        "                df[colName + \"_\" + col + \"_cos\"] = np.cos(df[colName + \"_\" + col + \"_norm\"])\n",
        "\n",
        "        df = df.drop(dropColumns, axis = 1)\n",
        "\n",
        "        for i in range(1, 11):\n",
        "            df_new = df.sort_values(by='Date').groupby('Place_ID')[features].shift(i).sort_index()\n",
        "            df_new_diff_prev = df[features] - df_new\n",
        "            df_new.columns = [c + f'_prev_{i}' for c in df_new.columns]\n",
        "            df_new_diff_prev.columns = [c + f'_prev_diff_{i}' for c in df_new_diff_prev.columns]\n",
        "            df = pd.concat([df, df_new, df_new_diff_prev], axis=1)\n",
        "            \n",
        "        for i in range(1, 11):\n",
        "            df_new = df.sort_values(by='Date').groupby('Place_ID')[features].shift(-i).sort_index()\n",
        "            df_new_diff_next = df[features] - df_new\n",
        "            df_new.columns = [c + f'_next_{i}' for c in df_new.columns]\n",
        "            df_new_diff_next.columns = [c + f'_next_diff_{i}' for c in df_new_diff_next.columns]\n",
        "            df = pd.concat([df, df_new, df_new_diff_next], axis=1)\n",
        "            \n",
        "        timeFeatures = ['day', 'month', 'week', 'dayofweek', \n",
        "                        'weekofyear', 'days_in_month',\n",
        "                        'is_month_start', 'is_month_end', 'dayofyear']\n",
        "        for attr in timeFeatures:\n",
        "            df[attr] = getattr(df['Date'].dt, attr)\n",
        "        df['is_weekend'] = (df['dayofweek'] >= 5)*1\n",
        "        df['quarter'] = df['day']%15\n",
        "        df['which_quarter'] = df['day']//15\n",
        "\n",
        "        for col in ['dayofweek', 'weekofyear', 'days_in_month', 'dayofyear']:\n",
        "            df[\"Current_Date_\" + col + \"_norm\"] = 2 * math.pi * df[col] / df[col].max()\n",
        "            df[\"Current_Date_\" + col + \"_sin\"] = np.sin(df[\"Current_Date_\" + col + \"_norm\"])\n",
        "            df[\"Current_Date_\" + col + \"_cos\"] = np.cos(df[\"Current_Date_\" + col + \"_norm\"])\n",
        "            df = df.drop([\"Current_Date_\" + col + \"_norm\"], axis = 1)\n",
        "        \n",
        "        rmvCols = ['Date', 'target_count', 'target_min', 'Place_ID X Date', \n",
        "                   'target_variance', 'Place_ID', 'target_max', 'target']\n",
        "        \n",
        "        features = [c for c in df.columns if c not in rmvCols]\n",
        "        train = df[:train.shape[0]].reset_index(drop=True)\n",
        "        test = df[train.shape[0]:].reset_index(drop=True)\n",
        "        target = train[LABEL]\n",
        "\n",
        "        return train, test, target, features"
      ]
    },
    {
      "cell_type": "code",
      "execution_count": null,
      "metadata": {
        "id": "imbLwiZMYPq-"
      },
      "outputs": [],
      "source": [
        "process = ProcessData()\n",
        "\n",
        "train_df, test_df, target, features = process.preprocess(train, test)"
      ]
    },
    {
      "cell_type": "code",
      "execution_count": null,
      "metadata": {
        "colab": {
          "base_uri": "https://localhost:8080/"
        },
        "id": "JZRX-yhafD_x",
        "outputId": "443d2bb3-589e-4cac-f3e8-8716402dfc06"
      },
      "outputs": [
        {
          "data": {
            "text/plain": [
              "((30557, 3181), (16136, 3181))"
            ]
          },
          "execution_count": 8,
          "metadata": {},
          "output_type": "execute_result"
        }
      ],
      "source": [
        "train_df.shape, test_df.shape"
      ]
    },
    {
      "cell_type": "markdown",
      "metadata": {
        "id": "UgqQq9MrYPq_"
      },
      "source": [
        "# **Modelling**"
      ]
    },
    {
      "cell_type": "code",
      "execution_count": null,
      "metadata": {
        "id": "Tc4-cHwmYPrA"
      },
      "outputs": [],
      "source": [
        "class PARAM:\n",
        "    SEED = 1901\n",
        "    n_splits = 10\n",
        "\n",
        "    lgbmParams = {'num_leaves': 100,  'min_data_in_leaf': 40,    'objective':'regression',\n",
        "              'max_depth': -1,    'learning_rate': 0.05, \"boosting\": \"gbdt\",  \"feature_fraction\": 0.35,\n",
        "              \"metric\": 'auc',   \"lambda_l1\": 1,  \"lambda_l2\": 1,  \"random_state\": 6, \"verbosity\": -1,  'metric' : 'rmse',  'num_iterations': 2200}\n",
        "        \n",
        "        \n",
        "skfolds = StratifiedKFold(n_splits= PARAM.n_splits, random_state= PARAM.SEED, shuffle = True)"
      ]
    },
    {
      "cell_type": "code",
      "execution_count": null,
      "metadata": {
        "colab": {
          "background_save": true,
          "base_uri": "https://localhost:8080/"
        },
        "id": "pUOfjGISYPrB",
        "outputId": "7c165053-16f8-45ad-e06c-9b377d20f457"
      },
      "outputs": [
        {
          "name": "stdout",
          "output_type": "stream",
          "text": [
            "--------------------------------------------------\n",
            "Fold 1 / 10\n",
            "Training until validation scores don't improve for 200 rounds.\n",
            "[200]\ttraining's rmse: 12.2382\tvalid_1's rmse: 29.3352\n",
            "[400]\ttraining's rmse: 7.47945\tvalid_1's rmse: 28.7278\n",
            "[600]\ttraining's rmse: 5.10429\tvalid_1's rmse: 28.5744\n",
            "[800]\ttraining's rmse: 3.6782\tvalid_1's rmse: 28.4944\n",
            "[1000]\ttraining's rmse: 2.72762\tvalid_1's rmse: 28.4596\n",
            "[1200]\ttraining's rmse: 2.06812\tvalid_1's rmse: 28.4308\n",
            "[1400]\ttraining's rmse: 1.59971\tvalid_1's rmse: 28.4218\n",
            "[1600]\ttraining's rmse: 1.24622\tvalid_1's rmse: 28.4151\n",
            "[1800]\ttraining's rmse: 0.977779\tvalid_1's rmse: 28.4083\n",
            "[2000]\ttraining's rmse: 0.770764\tvalid_1's rmse: 28.4035\n",
            "[2200]\ttraining's rmse: 0.610665\tvalid_1's rmse: 28.4035\n",
            "Did not meet early stopping. Best iteration is:\n",
            "[2200]\ttraining's rmse: 0.610665\tvalid_1's rmse: 28.4035\n",
            "RMSE : 28.40352412141118\n",
            "--------------------------------------------------\n",
            "--------------------------------------------------\n",
            "Fold 2 / 10\n",
            "Training until validation scores don't improve for 200 rounds.\n",
            "[200]\ttraining's rmse: 12.7131\tvalid_1's rmse: 22.2634\n",
            "[400]\ttraining's rmse: 7.54126\tvalid_1's rmse: 21.4548\n",
            "[600]\ttraining's rmse: 4.89646\tvalid_1's rmse: 21.2539\n",
            "[800]\ttraining's rmse: 3.32588\tvalid_1's rmse: 21.1843\n",
            "[1000]\ttraining's rmse: 2.32749\tvalid_1's rmse: 21.1533\n",
            "[1200]\ttraining's rmse: 1.68767\tvalid_1's rmse: 21.125\n",
            "[1400]\ttraining's rmse: 1.26335\tvalid_1's rmse: 21.1176\n",
            "[1600]\ttraining's rmse: 0.973524\tvalid_1's rmse: 21.1068\n",
            "[1800]\ttraining's rmse: 0.774087\tvalid_1's rmse: 21.1019\n",
            "[2000]\ttraining's rmse: 0.630277\tvalid_1's rmse: 21.1002\n",
            "[2200]\ttraining's rmse: 0.526458\tvalid_1's rmse: 21.0999\n",
            "Did not meet early stopping. Best iteration is:\n",
            "[2200]\ttraining's rmse: 0.526458\tvalid_1's rmse: 21.0999\n",
            "RMSE : 21.09990701709421\n",
            "--------------------------------------------------\n",
            "--------------------------------------------------\n",
            "Fold 3 / 10\n",
            "Training until validation scores don't improve for 200 rounds.\n",
            "[200]\ttraining's rmse: 12.7393\tvalid_1's rmse: 22.7079\n",
            "[400]\ttraining's rmse: 7.50598\tvalid_1's rmse: 21.9786\n",
            "[600]\ttraining's rmse: 4.85281\tvalid_1's rmse: 21.8502\n",
            "[800]\ttraining's rmse: 3.28536\tvalid_1's rmse: 21.7911\n",
            "[1000]\ttraining's rmse: 2.31111\tvalid_1's rmse: 21.7713\n",
            "[1200]\ttraining's rmse: 1.68209\tvalid_1's rmse: 21.7647\n",
            "[1400]\ttraining's rmse: 1.26902\tvalid_1's rmse: 21.7534\n",
            "[1600]\ttraining's rmse: 0.991389\tvalid_1's rmse: 21.7509\n",
            "Early stopping, best iteration is:\n",
            "[1485]\ttraining's rmse: 1.13917\tvalid_1's rmse: 21.7502\n",
            "RMSE : 21.750225509184926\n",
            "--------------------------------------------------\n",
            "--------------------------------------------------\n",
            "Fold 4 / 10\n",
            "Training until validation scores don't improve for 200 rounds.\n",
            "[200]\ttraining's rmse: 12.7102\tvalid_1's rmse: 22.2265\n",
            "[400]\ttraining's rmse: 7.53369\tvalid_1's rmse: 21.5159\n",
            "[600]\ttraining's rmse: 4.90271\tvalid_1's rmse: 21.3356\n",
            "[800]\ttraining's rmse: 3.33963\tvalid_1's rmse: 21.2733\n",
            "[1000]\ttraining's rmse: 2.37494\tvalid_1's rmse: 21.2405\n",
            "[1200]\ttraining's rmse: 1.74742\tvalid_1's rmse: 21.2217\n",
            "[1400]\ttraining's rmse: 1.33534\tvalid_1's rmse: 21.2124\n",
            "[1600]\ttraining's rmse: 1.04947\tvalid_1's rmse: 21.2089\n",
            "[1800]\ttraining's rmse: 0.84861\tvalid_1's rmse: 21.2062\n",
            "[2000]\ttraining's rmse: 0.699192\tvalid_1's rmse: 21.2039\n",
            "[2200]\ttraining's rmse: 0.587769\tvalid_1's rmse: 21.2027\n",
            "Did not meet early stopping. Best iteration is:\n",
            "[2200]\ttraining's rmse: 0.587769\tvalid_1's rmse: 21.2027\n",
            "RMSE : 21.202727597391473\n",
            "--------------------------------------------------\n",
            "--------------------------------------------------\n",
            "Fold 5 / 10\n",
            "Training until validation scores don't improve for 200 rounds.\n",
            "[200]\ttraining's rmse: 12.6523\tvalid_1's rmse: 23.12\n",
            "[400]\ttraining's rmse: 7.48892\tvalid_1's rmse: 22.382\n",
            "[600]\ttraining's rmse: 4.84526\tvalid_1's rmse: 22.1678\n",
            "[800]\ttraining's rmse: 3.25297\tvalid_1's rmse: 22.0882\n",
            "[1000]\ttraining's rmse: 2.23053\tvalid_1's rmse: 22.0414\n",
            "[1200]\ttraining's rmse: 1.57819\tvalid_1's rmse: 22.015\n",
            "[1400]\ttraining's rmse: 1.14679\tvalid_1's rmse: 22.0044\n",
            "[1600]\ttraining's rmse: 0.854637\tvalid_1's rmse: 21.9914\n",
            "[1800]\ttraining's rmse: 0.656629\tvalid_1's rmse: 21.9847\n",
            "[2000]\ttraining's rmse: 0.516729\tvalid_1's rmse: 21.9815\n",
            "[2200]\ttraining's rmse: 0.416282\tvalid_1's rmse: 21.9787\n",
            "Did not meet early stopping. Best iteration is:\n",
            "[2200]\ttraining's rmse: 0.416282\tvalid_1's rmse: 21.9787\n",
            "RMSE : 21.978721810382336\n",
            "--------------------------------------------------\n",
            "--------------------------------------------------\n",
            "Fold 6 / 10\n",
            "Training until validation scores don't improve for 200 rounds.\n",
            "[200]\ttraining's rmse: 12.6263\tvalid_1's rmse: 22.7447\n",
            "[400]\ttraining's rmse: 7.43861\tvalid_1's rmse: 21.968\n",
            "[600]\ttraining's rmse: 4.82834\tvalid_1's rmse: 21.7695\n",
            "[800]\ttraining's rmse: 3.25375\tvalid_1's rmse: 21.6797\n",
            "[1000]\ttraining's rmse: 2.23895\tvalid_1's rmse: 21.6312\n",
            "[1200]\ttraining's rmse: 1.58917\tvalid_1's rmse: 21.611\n",
            "[1400]\ttraining's rmse: 1.16589\tvalid_1's rmse: 21.6078\n",
            "[1600]\ttraining's rmse: 0.8759\tvalid_1's rmse: 21.6069\n",
            "[1800]\ttraining's rmse: 0.675112\tvalid_1's rmse: 21.6032\n",
            "Early stopping, best iteration is:\n",
            "[1714]\ttraining's rmse: 0.753746\tvalid_1's rmse: 21.6026\n",
            "RMSE : 21.602592063409062\n",
            "--------------------------------------------------\n",
            "--------------------------------------------------\n",
            "Fold 7 / 10\n",
            "Training until validation scores don't improve for 200 rounds.\n",
            "[200]\ttraining's rmse: 12.4058\tvalid_1's rmse: 25.0552\n",
            "[400]\ttraining's rmse: 7.29991\tvalid_1's rmse: 24.3571\n",
            "[600]\ttraining's rmse: 4.72619\tvalid_1's rmse: 24.141\n",
            "[800]\ttraining's rmse: 3.19554\tvalid_1's rmse: 24.03\n",
            "[1000]\ttraining's rmse: 2.21278\tvalid_1's rmse: 23.9876\n",
            "[1200]\ttraining's rmse: 1.5731\tvalid_1's rmse: 23.9558\n",
            "[1400]\ttraining's rmse: 1.14774\tvalid_1's rmse: 23.9351\n",
            "[1600]\ttraining's rmse: 0.854061\tvalid_1's rmse: 23.9258\n",
            "[1800]\ttraining's rmse: 0.653442\tvalid_1's rmse: 23.9182\n",
            "[2000]\ttraining's rmse: 0.509446\tvalid_1's rmse: 23.9161\n",
            "[2200]\ttraining's rmse: 0.406138\tvalid_1's rmse: 23.9127\n",
            "Did not meet early stopping. Best iteration is:\n",
            "[2200]\ttraining's rmse: 0.406138\tvalid_1's rmse: 23.9127\n",
            "RMSE : 23.91269921912156\n",
            "--------------------------------------------------\n",
            "--------------------------------------------------\n",
            "Fold 8 / 10\n",
            "Training until validation scores don't improve for 200 rounds.\n",
            "[200]\ttraining's rmse: 12.6261\tvalid_1's rmse: 22.7397\n",
            "[400]\ttraining's rmse: 7.50734\tvalid_1's rmse: 21.9726\n",
            "[600]\ttraining's rmse: 4.876\tvalid_1's rmse: 21.767\n",
            "[800]\ttraining's rmse: 3.33248\tvalid_1's rmse: 21.6767\n",
            "[1000]\ttraining's rmse: 2.35603\tvalid_1's rmse: 21.6447\n",
            "[1200]\ttraining's rmse: 1.71773\tvalid_1's rmse: 21.6244\n",
            "[1400]\ttraining's rmse: 1.29211\tvalid_1's rmse: 21.6146\n",
            "[1600]\ttraining's rmse: 0.999465\tvalid_1's rmse: 21.6146\n",
            "[1800]\ttraining's rmse: 0.795045\tvalid_1's rmse: 21.6142\n",
            "Early stopping, best iteration is:\n",
            "[1760]\ttraining's rmse: 0.830456\tvalid_1's rmse: 21.6136\n",
            "RMSE : 21.61357633285219\n",
            "--------------------------------------------------\n",
            "--------------------------------------------------\n",
            "Fold 9 / 10\n",
            "Training until validation scores don't improve for 200 rounds.\n",
            "[200]\ttraining's rmse: 12.1745\tvalid_1's rmse: 30.2736\n",
            "[400]\ttraining's rmse: 7.39671\tvalid_1's rmse: 29.5925\n",
            "[600]\ttraining's rmse: 5.06239\tvalid_1's rmse: 29.4481\n",
            "[800]\ttraining's rmse: 3.63893\tvalid_1's rmse: 29.3672\n",
            "[1000]\ttraining's rmse: 2.72208\tvalid_1's rmse: 29.3317\n",
            "[1200]\ttraining's rmse: 2.08661\tvalid_1's rmse: 29.2961\n",
            "[1400]\ttraining's rmse: 1.64406\tvalid_1's rmse: 29.2822\n",
            "[1600]\ttraining's rmse: 1.31803\tvalid_1's rmse: 29.2763\n",
            "Early stopping, best iteration is:\n",
            "[1586]\ttraining's rmse: 1.33861\tvalid_1's rmse: 29.275\n",
            "RMSE : 29.27502039938984\n",
            "--------------------------------------------------\n",
            "--------------------------------------------------\n",
            "Fold 10 / 10\n",
            "Training until validation scores don't improve for 200 rounds.\n",
            "[200]\ttraining's rmse: 12.698\tvalid_1's rmse: 22.6878\n",
            "[400]\ttraining's rmse: 7.5323\tvalid_1's rmse: 21.8713\n",
            "[600]\ttraining's rmse: 4.88474\tvalid_1's rmse: 21.6824\n",
            "[800]\ttraining's rmse: 3.30403\tvalid_1's rmse: 21.6238\n",
            "[1000]\ttraining's rmse: 2.31341\tvalid_1's rmse: 21.5815\n",
            "[1200]\ttraining's rmse: 1.68181\tvalid_1's rmse: 21.5704\n",
            "[1400]\ttraining's rmse: 1.26415\tvalid_1's rmse: 21.5641\n",
            "[1600]\ttraining's rmse: 0.9796\tvalid_1's rmse: 21.558\n",
            "[1800]\ttraining's rmse: 0.77797\tvalid_1's rmse: 21.555\n",
            "[2000]\ttraining's rmse: 0.633526\tvalid_1's rmse: 21.5515\n",
            "[2200]\ttraining's rmse: 0.525942\tvalid_1's rmse: 21.5507\n",
            "Did not meet early stopping. Best iteration is:\n",
            "[2200]\ttraining's rmse: 0.525942\tvalid_1's rmse: 21.5507\n",
            "RMSE : 21.550695027777948\n",
            "--------------------------------------------------\n",
            "Train RMSE : 23.41945069154933\n"
          ]
        }
      ],
      "source": [
        "target = train_df['target']\n",
        "train_preds = np.zeros(len(train_df))\n",
        "test_preds = np.zeros(len(test_df))\n",
        "split_y = pd.qcut(target, 10, labels=False, duplicates='drop')\n",
        "\n",
        "for fold_, (trn_idx, val_idx) in enumerate(skfolds.split(train_df.values, split_y)):\n",
        "    print(50*'-')\n",
        "    print(f'Fold {fold_+1} / {PARAM.n_splits}' )\n",
        "    X_trn, X_val, X_test = train_df.iloc[trn_idx][features], train_df.iloc[val_idx][features], test_df[features]   \n",
        "    y_trn, y_val = target.iloc[trn_idx], target.iloc[val_idx]\n",
        "    trn_data = lgb.Dataset(X_trn, y_trn)\n",
        "    val_data = lgb.Dataset(X_val, y_val)\n",
        "\n",
        "    clf = lgb.train(PARAM.lgbmParams, trn_data, valid_sets = [trn_data, val_data], \n",
        "                          verbose_eval=200, early_stopping_rounds = 200)\n",
        "\n",
        "    predTrain = clf.predict(X_val, num_iteration=clf.best_iteration)\n",
        "    train_preds[val_idx] = predTrain\n",
        "    print(f\"RMSE : {rmse(y_val, predTrain)}\")\n",
        "\n",
        "    predTest = clf.predict(X_test, num_iteration=clf.best_iteration)\n",
        "    predTest[predTest < 0] = 0\n",
        "    test_preds += predTest\n",
        "    print(50*'-')\n",
        "\n",
        "test_preds = test_preds / PARAM.n_splits\n",
        "print(f\"Train RMSE : {rmse(target, train_preds)}\")"
      ]
    },
    {
      "cell_type": "code",
      "execution_count": null,
      "metadata": {
        "colab": {
          "background_save": true
        },
        "id": "-Ncwn1hJYPrC"
      },
      "outputs": [],
      "source": [
        "predictions1 = test_preds\n",
        "predictions1[predictions1 < 0] = 0\n",
        "\n",
        "sub = pd.DataFrame()\n",
        "sub['Place_ID X Date'] = test_df['Place_ID X Date']\n",
        "sub['target'] = predictions1\n",
        "sub.to_csv(\"LGBM_SOLUTION3.csv\", index=False)\n",
        "sub.to_csv(f\"{csv_path}LGBM_SOLUTION3.csv\", index=False)"
      ]
    }
  ],
  "metadata": {
    "colab": {
      "collapsed_sections": [
        "NQchW9WkYbx0",
        "pPKjWAIqd_QJ",
        "zDFeQthlYfmS"
      ],
      "provenance": []
    },
    "kernelspec": {
      "display_name": "Python 3",
      "language": "python",
      "name": "python3"
    },
    "language_info": {
      "codemirror_mode": {
        "name": "ipython",
        "version": 3
      },
      "file_extension": ".py",
      "mimetype": "text/x-python",
      "name": "python",
      "nbconvert_exporter": "python",
      "pygments_lexer": "ipython3",
      "version": "3.7.12"
    }
  },
  "nbformat": 4,
  "nbformat_minor": 0
}