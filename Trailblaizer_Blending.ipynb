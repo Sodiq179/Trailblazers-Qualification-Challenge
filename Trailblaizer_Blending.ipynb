{
  "nbformat": 4,
  "nbformat_minor": 0,
  "metadata": {
    "colab": {
      "provenance": [],
      "collapsed_sections": []
    },
    "kernelspec": {
      "name": "python3",
      "display_name": "Python 3"
    },
    "language_info": {
      "name": "python"
    }
  },
  "cells": [
    {
      "cell_type": "markdown",
      "source": [
        "# **SOLUTION WEIGHTED AVERAGING**"
      ],
      "metadata": {
        "id": "oVam_tZkDl2o"
      }
    },
    {
      "cell_type": "code",
      "execution_count": 1,
      "metadata": {
        "id": "536POLZJC07J"
      },
      "outputs": [],
      "source": [
        "import numpy as np\n",
        "import pandas as pd\n",
        "import matplotlib.pyplot as plt"
      ]
    },
    {
      "cell_type": "code",
      "source": [
        "sol1 = pd.read_csv(\"CATBOOST_SOLUTION1.csv\")\n",
        "sol2 = pd.read_csv(\"LGBM_SOLUTION2.csv\")\n",
        "sol3 = pd.read_csv(\"LGBM_SOLUTION3.csv\")"
      ],
      "metadata": {
        "id": "eelf0_4MDA9_"
      },
      "execution_count": 2,
      "outputs": []
    },
    {
      "cell_type": "code",
      "source": [
        "blend1 = pd.DataFrame()\n",
        "blend1[\"Place_ID X Date\"] = sol1[\"Place_ID X Date\"]\n",
        "blend1[\"target\"] = ((sol1[\"target\"]*0.4 + sol2[\"target\"]*0.6)*0.6 + sol3[\"target\"]*0.4)\n",
        "\n",
        "blend1.to_csv(\"FinalSolution1.csv\", index = False)"
      ],
      "metadata": {
        "id": "AoOO42aBNDtG"
      },
      "execution_count": 3,
      "outputs": []
    }
  ]
}