{
  "nbformat": 4,
  "nbformat_minor": 0,
  "metadata": {
    "colab": {
      "provenance": [],
      "collapsed_sections": [
        "kQjp-5B8U-KO",
        "P2lGFFvM6OOE",
        "jdLYkKPQ688m",
        "odXfsVkRZzub",
        "A-anGAMoEf-v"
      ]
    },
    "kernelspec": {
      "name": "python3",
      "display_name": "Python 3"
    },
    "gpuClass": "standard"
  },
  "cells": [
    {
      "cell_type": "markdown",
      "source": [
        "# **SETUP**"
      ],
      "metadata": {
        "id": "kQjp-5B8U-KO"
      }
    },
    {
      "cell_type": "code",
      "source": [
        "from google.colab import drive\n",
        "drive.mount('/content/drive')"
      ],
      "metadata": {
        "colab": {
          "base_uri": "https://localhost:8080/"
        },
        "id": "XrWCerUaVA2l",
        "outputId": "9d64e71a-235f-4dc5-ad7c-9c33b934985b"
      },
      "execution_count": 1,
      "outputs": [
        {
          "output_type": "stream",
          "name": "stdout",
          "text": [
            "Mounted at /content/drive\n"
          ]
        }
      ]
    },
    {
      "cell_type": "markdown",
      "source": [
        "# **Libraries**"
      ],
      "metadata": {
        "id": "P2lGFFvM6OOE"
      }
    },
    {
      "cell_type": "code",
      "metadata": {
        "id": "VwfQNWy5RdFR"
      },
      "source": [
        "import datetime\n",
        "import numpy as np\n",
        "import pandas as pd\n",
        "import seaborn as sns\n",
        "import matplotlib.pyplot as plt\n",
        "import lightgbm as lgb\n",
        "import sklearn\n",
        "from sklearn.metrics import mean_squared_error as mse\n",
        "from sklearn.model_selection import KFold, StratifiedKFold\n",
        "from sklearn.metrics import mean_squared_error\n",
        "from sklearn.decomposition import PCA, FastICA, TruncatedSVD\n",
        "\n",
        "import warnings\n",
        "warnings.filterwarnings(\"ignore\")"
      ],
      "execution_count": 2,
      "outputs": []
    },
    {
      "cell_type": "code",
      "source": [
        "print(\"pandas==\",pd.__version__)\n",
        "print(\"numpy==\",np.__version__)\n",
        "print(\"scikit-learn==\",sklearn.__version__)\n",
        "print(\"lightgbm==\",lgb.__version__)"
      ],
      "metadata": {
        "colab": {
          "base_uri": "https://localhost:8080/"
        },
        "id": "avD-oSiDim4I",
        "outputId": "8f5932be-788b-48b2-bab5-e11d80efa89a"
      },
      "execution_count": 3,
      "outputs": [
        {
          "output_type": "stream",
          "name": "stdout",
          "text": [
            "pandas== 1.3.5\n",
            "numpy== 1.21.6\n",
            "scikit-learn== 1.0.2\n",
            "lightgbm== 2.2.3\n"
          ]
        }
      ]
    },
    {
      "cell_type": "code",
      "source": [
        "def rmse(y_true, y_pred):\n",
        "    return np.sqrt(mse(y_true, y_pred))"
      ],
      "metadata": {
        "id": "ddni777rUqCS"
      },
      "execution_count": 4,
      "outputs": []
    },
    {
      "cell_type": "markdown",
      "source": [
        "# **Dataset**"
      ],
      "metadata": {
        "id": "jdLYkKPQ688m"
      }
    },
    {
      "cell_type": "code",
      "metadata": {
        "id": "EK9UaVrZDT3e"
      },
      "source": [
        "csv_path = \"/content/drive/MyDrive/TrailblazersQualificationChallenge/\"\n",
        "train = pd.read_csv(f'{csv_path}Train.csv')\n",
        "test = pd.read_csv(f'{csv_path}Test.csv')\n",
        "sub  = pd.read_csv(f'{csv_path}SampleSubmission.csv')"
      ],
      "execution_count": 5,
      "outputs": []
    },
    {
      "cell_type": "markdown",
      "metadata": {
        "id": "odXfsVkRZzub"
      },
      "source": [
        "# **Feature Engineering**"
      ]
    },
    {
      "cell_type": "code",
      "source": [
        "shiftColumns = [\"temperature_2m_above_ground\",\"precipitable_water_entire_atmosphere\",'L3_NO2_NO2_column_number_density', 'L3_O3_O3_column_number_density',\n",
        "        'L3_HCHO_tropospheric_HCHO_column_number_density', 'L3_CO_CO_column_number_density', 'L3_CLOUD_surface_albedo', 'L3_CLOUD_cloud_optical_depth']\n",
        "\n",
        "for column in shiftColumns:\n",
        "  for period in range(2, 5):\n",
        "    train[f\"{column}_shif{period}\"] = train[column].shift(periods = period)\n",
        "    test[f\"{column}_shif{period}\"] = test[column].shift(periods = period)\n",
        "\n",
        "\n",
        "tempColumns = ['precipitable_water_entire_atmosphere', 'temperature_2m_above_ground','relative_humidity_2m_above_ground', ]\n",
        "\n",
        "for column in tempColumns:\n",
        "  train[f\"{column}_shift1\"] = [np.NaN] + list(train[column][0:len(train)-1])\n",
        "  for i in range (len(train)): \n",
        "    if i % 94 == 0:\n",
        "      train[f\"{column}_shift1\"][i]=np.NaN\n",
        "\n",
        "  test[f\"{column}_shift1\"] = [np.NaN] + list(test[column][0:len(test)-1])\n",
        "  for i in range (len(test)): \n",
        "    if i % 94 == 0:\n",
        "      test[f\"{column}_shift1\"][i]=np.NaN\n",
        "\n",
        "dropColumns = ['L3_HCHO_sensor_azimuth_angle', 'L3_HCHO_sensor_zenith_angle', 'L3_HCHO_solar_azimuth_angle', 'L3_HCHO_solar_zenith_angle',\n",
        "              'L3_CO_sensor_zenith_angle', 'L3_CO_solar_zenith_angle','L3_SO2_sensor_azimuth_angle', 'L3_SO2_sensor_zenith_angle',\n",
        "              'L3_SO2_solar_azimuth_angle', 'L3_SO2_solar_zenith_angle','L3_CH4_solar_zenith_angle','L3_CH4_solar_azimuth_angle','L3_CH4_sensor_zenith_angle',\n",
        "               'L3_CH4_sensor_azimuth_angle','L3_CH4_aerosol_optical_depth','L3_CH4_aerosol_height','L3_CH4_CH4_column_volume_mixing_ratio_dry_air']\n",
        "\n",
        "train = train.drop(columns = dropColumns)\n",
        "test = test.drop(columns = dropColumns)\n",
        "\n",
        "l = list(test.columns)\n",
        "p = [col for col in train.columns if col not in (l + [\"target\"])]\n",
        "train = train.drop(p , axis=1)\n",
        "\n",
        "train[\"Date\"] = pd.to_datetime(train['Date'])\n",
        "test[\"Date\"] = pd.to_datetime(test['Date'])\n",
        "\n",
        "for attr in ['day', 'month', 'week', 'dayofweek', 'weekofyear', 'days_in_month', 'is_month_start', 'is_month_end', 'dayofyear',\"quarter\"]:\n",
        "  train[attr] = getattr(train['Date'].dt, attr)\n",
        "  test[attr] = getattr(test['Date'].dt, attr)\n",
        "\n",
        "train['is_weekend'] = (train['dayofweek'] >= 5)*1\n",
        "train['quarter'] = train['day']%15\n",
        "train['which_quarter'] = train['day']//15\n",
        "\n",
        "test['is_weekend'] = (test['dayofweek'] >= 5)*1\n",
        "test['quarter'] = test['day'] % 15\n",
        "test['which_quarter'] = test['day'] // 15\n",
        "\n",
        "def winterFunc(month):\n",
        "  if month == 1 or month ==2:\n",
        "    return 1\n",
        "  else:\n",
        "    return 0\n",
        "\n",
        "train['winter'] = train[\"month\"].apply(winterFunc)\n",
        "test['winter'] = test[\"month\"].apply(winterFunc)\n",
        "\n",
        "train = train.fillna(method='ffill')\n",
        "train = train.fillna(train.mean())\n",
        "\n",
        "test = test.fillna(method ='ffill')\n",
        "test = test.fillna(test.mean())\n",
        "\n",
        "air_temperature_filler = pd.DataFrame(train.groupby(['Place_ID','month'])['temperature_2m_above_ground'].mean())\n",
        "train['mean temp per month'] = 0\n",
        "for i in range (len(train)):\n",
        "  train['mean temp per month'][i]=air_temperature_filler.loc[(train['Place_ID'][i], train['month'][i]), :]\n",
        "\n",
        "air_temperature_filler = pd.DataFrame(test.groupby(['Place_ID','month'])['temperature_2m_above_ground'].mean())\n",
        "test['mean temp per month']=0\n",
        "for i in range (len(test)):\n",
        "  test['mean temp per month'][i]=air_temperature_filler.loc[(test['Place_ID'][i], test['month'][i]), :]\n",
        "\n",
        "## PCA\n",
        "pca = PCA(random_state=42,n_components=1)\n",
        "\n",
        "pg_features =  train.filter(regex='L3_AER_.*')\n",
        "train_pca = pca.fit_transform(pg_features)\n",
        "train['PCA_AE'] = train_pca[:,0]\n",
        "pg_features =  test.filter(regex='L3_AER.*')\n",
        "test_pca = pca.transform(pg_features)\n",
        "test['PCA_AE'] = test_pca[:,0]\n",
        "\n",
        "\n",
        "pca = PCA(random_state=42,n_components=1)\n",
        "pg_features =  train.filter(regex='L3_NO2_.*')\n",
        "train_pca = pca.fit_transform(pg_features)\n",
        "train['PCA_NO'] = train_pca[:,0]\n",
        "pg_features =  test.filter(regex='L3_NO2.*')\n",
        "test_pca = pca.transform(pg_features)\n",
        "test['PCA_NO'] = test_pca[:,0]\n",
        "\n",
        "trainag = train.copy()\n",
        "testag = test.copy()\n",
        "\n",
        "train.drop(['Place_ID X Date','Date','Place_ID'], inplace = True, axis = 1)\n",
        "test.drop(['Place_ID X Date','Date','Place_ID'], inplace = True, axis = 1)\n",
        "target = train['target']\n",
        "train.drop('target', axis = 1, inplace = True)\n",
        "\n",
        "feature=['precipitable_water_entire_atmosphere', \t'relative_humidity_2m_above_ground', \t'specific_humidity_2m_above_ground',\n",
        "         'temperature_2m_above_ground', \t'u_component_of_wind_10m_above_ground', \t'v_component_of_wind_10m_above_ground', \t\n",
        "         'L3_NO2_NO2_column_number_density', 'L3_SO2_SO2_column_number_density',\t'L3_SO2_SO2_column_number_density_amf',\n",
        "         'L3_SO2_SO2_slant_column_number_density', \t 'L3_NO2_tropospheric_NO2_column_number_density', 'L3_HCHO_tropospheric_HCHO_column_number_density',\n",
        "         'L3_CO_CO_column_number_density', 'L3_HCHO_HCHO_slant_column_number_density'\t,'L3_CO_H2O_column_number_density'\t,'L3_O3_O3_column_number_density',\n",
        "         'L3_NO2_NO2_slant_column_number_density']\n",
        "\n",
        "\n",
        "train1 = train.copy()\n",
        "test1 = test.copy()\n",
        "dropCol2 = [c for c in list(feature) if c not in l]\n",
        "train1.drop(dropCol2, inplace = True, axis = 1)\n",
        "test1.drop(dropCol2, inplace = True, axis = 1)\n",
        "    \n",
        "pca = PCA(random_state = 42, n_components = 1)\n",
        "train_pca = pca.fit_transform(train1)\n",
        "train['pca_feature'] = train_pca[: , 0]\n",
        "test_pca = pca.transform(test1)\n",
        "test['pca_feature'] = test_pca[: , 0]"
      ],
      "metadata": {
        "id": "qMIVbcez00Z_"
      },
      "execution_count": 6,
      "outputs": []
    },
    {
      "cell_type": "code",
      "source": [
        "aggColumns = ['L3_HCHO_tropospheric_HCHO_column_number_density', 'L3_CO_CO_column_number_density', 'L3_O3_O3_column_number_density', 'L3_NO2_NO2_slant_column_number_density',\n",
        "              'L3_NO2_NO2_column_number_density', 'L3_O3_cloud_fraction', 'L3_CO_H2O_column_number_density', 'L3_HCHO_HCHO_slant_column_number_density',\n",
        "              'relative_humidity_2m_above_ground', 'u_component_of_wind_10m_above_ground', 'precipitable_water_entire_atmosphere', 'specific_humidity_2m_above_ground',\n",
        "              'v_component_of_wind_10m_above_ground', 'temperature_2m_above_ground', 'PCA_AE']\n",
        "\n",
        "aggs = {}\n",
        "\n",
        "for columns in aggColumns:\n",
        "  aggs[columns] = ['sum','max','min','mean','std']\n",
        "\n",
        "agg_trans = trainag.groupby(['Place_ID']).agg(aggs)\n",
        "agg_trans.columns = ['_'.join(col).strip() for col in agg_trans.columns.values]\n",
        "agg_trans.reset_index(inplace=True)\n",
        "\n",
        "df = (trainag.groupby('Place_ID')\n",
        "          .size()\n",
        "          .reset_index(name='{}transactions_count'.format('1')))\n",
        "\n",
        "agg_trans = pd.merge(df, agg_trans, on='Place_ID', how='left')\n",
        "trainag = pd.merge(trainag,agg_trans, on='Place_ID', how='left')\n",
        "\n",
        "agg_trans = testag.groupby(['Place_ID']).agg(aggs)\n",
        "agg_trans.columns = ['_'.join(col).strip() for col in agg_trans.columns.values]\n",
        "agg_trans.reset_index(inplace=True)\n",
        "\n",
        "df = (testag.groupby('Place_ID')\n",
        "          .size()\n",
        "          .reset_index(name='{}transactions_count'.format('1')))\n",
        "\n",
        "agg_trans = pd.merge(df, agg_trans, on='Place_ID', how='left')\n",
        "testag = pd.merge(testag,agg_trans, on='Place_ID', how='left')\n",
        "\n",
        "trainag.drop(['Place_ID X Date' ,'Date' ,'Place_ID'], inplace = True, axis = 1)\n",
        "testag.drop(['Place_ID X Date','Date','Place_ID'], inplace = True, axis = 1)\n",
        "target = trainag['target']\n",
        "trainag.drop('target', axis = 1, inplace = True)\n",
        "\n",
        "feature=['precipitable_water_entire_atmosphere', \t'relative_humidity_2m_above_ground', \t'specific_humidity_2m_above_ground', \t'temperature_2m_above_ground', \n",
        "         'u_component_of_wind_10m_above_ground', \t'v_component_of_wind_10m_above_ground', \t'L3_NO2_NO2_column_number_density', 'L3_SO2_SO2_column_number_density',\t\n",
        "         'L3_SO2_SO2_column_number_density_amf' \t,'L3_SO2_SO2_slant_column_number_density', \t 'L3_NO2_tropospheric_NO2_column_number_density', \n",
        "         'L3_HCHO_tropospheric_HCHO_column_number_density', 'L3_CO_CO_column_number_density', 'L3_HCHO_HCHO_slant_column_number_density'\t,'L3_CO_H2O_column_number_density'\n",
        "         \t,'L3_O3_O3_column_number_density'\t,'L3_NO2_NO2_slant_column_number_density']\n",
        "\n",
        "train1 = trainag.copy()\n",
        "test1 = testag.copy()\n",
        "dropCol3 = [c for c in list(feature) if c not in l]\n",
        "\n",
        "train1.drop(dropCol3 , inplace = True , axis = 1)\n",
        "test1.drop(dropCol3 , inplace = True , axis = 1)\n",
        "    \n",
        "pca = PCA(random_state=42,n_components=1)\n",
        "train_pca = pca.fit_transform(train1)\n",
        "trainag['pca_feature'] = train_pca[:,0]\n",
        "test_pca = pca.transform(test1)\n",
        "testag['pca_feature'] = test_pca[:,0]"
      ],
      "metadata": {
        "id": "ZcFy6S_-7cwd"
      },
      "execution_count": 7,
      "outputs": []
    },
    {
      "cell_type": "markdown",
      "source": [
        "# **Model Training**"
      ],
      "metadata": {
        "id": "QbBwyNvz7LWq"
      }
    },
    {
      "cell_type": "code",
      "source": [
        "class PARAM:\n",
        "  SEED = 1901\n",
        "  n_splits = 10\n",
        "\n",
        "  lgbmParams =  {'num_leaves': 100, 'min_data_in_leaf': 50, 'objective':'regression',\n",
        "          'max_depth': -1, 'learning_rate': 0.075, \"boosting\": \"gbdt\",\n",
        "          \"feature_fraction\": 0.35, \"metric\": 'auc', \"lambda_l1\": 1,\n",
        "          \"lambda_l2\": 2,  \"random_state\": 6, \"verbosity\": -1,   'metric' : 'rmse', 'num_iterations': 1500}\n",
        "\n",
        "skfolds = StratifiedKFold(n_splits= PARAM.n_splits, random_state= PARAM.SEED, shuffle = True)"
      ],
      "metadata": {
        "id": "E1bw241fS0g8"
      },
      "execution_count": 8,
      "outputs": []
    },
    {
      "cell_type": "code",
      "source": [
        "def trainLGBMModel(max_iter, folds, train, test, parameters, target):\n",
        "  target = target\n",
        "  train_preds = np.zeros(len(train))\n",
        "  test_preds = np.zeros(len(test))\n",
        "  split_y = pd.qcut(target, 10, labels=False, duplicates='drop')\n",
        "\n",
        "  for fold_, (trn_idx, val_idx) in enumerate(folds.split(train.values, split_y)):\n",
        "      print(50*'-')\n",
        "      print(f'Fold {fold_+1} / {PARAM.n_splits}' )\n",
        "      X_trn, X_val, X_test = train.iloc[trn_idx], train.iloc[val_idx], test  \n",
        "      y_trn, y_val = target.iloc[trn_idx], target.iloc[val_idx]\n",
        "      trn_data = lgb.Dataset(X_trn, y_trn)\n",
        "      val_data = lgb.Dataset(X_val, y_val)\n",
        "          \n",
        "      clf = lgb.train(parameters, trn_data, valid_sets = [trn_data, val_data], \n",
        "                      verbose_eval=200, early_stopping_rounds = 200)\n",
        "\n",
        "      predTrain = clf.predict(X_val, num_iteration=clf.best_iteration)\n",
        "      train_preds[val_idx] = predTrain\n",
        "      print(f\"RMSE : {rmse(y_val, predTrain)}\")\n",
        "\n",
        "      predTest = clf.predict(X_test, num_iteration=clf.best_iteration)\n",
        "      predTest[predTest < 0] = 0\n",
        "      test_preds += predTest\n",
        "      print(50*'-')\n",
        "\n",
        "  test_preds = test_preds / PARAM.n_splits\n",
        "  print(f\"Train RMSE : {rmse(target, train_preds)}\")\n",
        "  return test_preds"
      ],
      "metadata": {
        "id": "M1jUPR_vS31C"
      },
      "execution_count": 9,
      "outputs": []
    },
    {
      "cell_type": "code",
      "source": [
        "pred = trainLGBMModel(max_iter = PARAM.n_splits , folds = skfolds, train = trainag, \n",
        "                       test = testag, parameters = PARAM.lgbmParams, target = target)"
      ],
      "metadata": {
        "colab": {
          "base_uri": "https://localhost:8080/"
        },
        "id": "SiJqlHTqTNxx",
        "outputId": "f2c5e866-5dca-42a4-dd13-068e4f883283"
      },
      "execution_count": 10,
      "outputs": [
        {
          "output_type": "stream",
          "name": "stdout",
          "text": [
            "--------------------------------------------------\n",
            "Fold 1 / 10\n",
            "Training until validation scores don't improve for 200 rounds.\n",
            "[200]\ttraining's rmse: 11.5664\tvalid_1's rmse: 25.1362\n",
            "[400]\ttraining's rmse: 7.83987\tvalid_1's rmse: 24.4848\n",
            "[600]\ttraining's rmse: 5.63183\tvalid_1's rmse: 24.1592\n",
            "[800]\ttraining's rmse: 4.16043\tvalid_1's rmse: 23.9622\n",
            "[1000]\ttraining's rmse: 3.1273\tvalid_1's rmse: 23.8828\n",
            "[1200]\ttraining's rmse: 2.39692\tvalid_1's rmse: 23.8247\n",
            "[1400]\ttraining's rmse: 1.86586\tvalid_1's rmse: 23.7766\n",
            "Did not meet early stopping. Best iteration is:\n",
            "[1500]\ttraining's rmse: 1.64355\tvalid_1's rmse: 23.76\n",
            "RMSE : 23.759986414201062\n",
            "--------------------------------------------------\n",
            "--------------------------------------------------\n",
            "Fold 2 / 10\n",
            "Training until validation scores don't improve for 200 rounds.\n",
            "[200]\ttraining's rmse: 11.9479\tvalid_1's rmse: 17.8708\n",
            "[400]\ttraining's rmse: 7.94268\tvalid_1's rmse: 17.5941\n",
            "[600]\ttraining's rmse: 5.60356\tvalid_1's rmse: 17.5146\n",
            "[800]\ttraining's rmse: 4.0993\tvalid_1's rmse: 17.482\n",
            "[1000]\ttraining's rmse: 3.06169\tvalid_1's rmse: 17.4745\n",
            "[1200]\ttraining's rmse: 2.33676\tvalid_1's rmse: 17.4426\n",
            "[1400]\ttraining's rmse: 1.81217\tvalid_1's rmse: 17.4324\n",
            "Did not meet early stopping. Best iteration is:\n",
            "[1500]\ttraining's rmse: 1.6101\tvalid_1's rmse: 17.4272\n",
            "RMSE : 17.4271834653817\n",
            "--------------------------------------------------\n",
            "--------------------------------------------------\n",
            "Fold 3 / 10\n",
            "Training until validation scores don't improve for 200 rounds.\n",
            "[200]\ttraining's rmse: 11.9872\tvalid_1's rmse: 17.8875\n",
            "[400]\ttraining's rmse: 7.94622\tvalid_1's rmse: 17.4813\n",
            "[600]\ttraining's rmse: 5.62211\tvalid_1's rmse: 17.3374\n",
            "[800]\ttraining's rmse: 4.07853\tvalid_1's rmse: 17.2597\n",
            "[1000]\ttraining's rmse: 3.04498\tvalid_1's rmse: 17.2258\n",
            "[1200]\ttraining's rmse: 2.31018\tvalid_1's rmse: 17.2108\n",
            "[1400]\ttraining's rmse: 1.7771\tvalid_1's rmse: 17.2018\n",
            "Did not meet early stopping. Best iteration is:\n",
            "[1500]\ttraining's rmse: 1.56114\tvalid_1's rmse: 17.198\n",
            "RMSE : 17.19798643844772\n",
            "--------------------------------------------------\n",
            "--------------------------------------------------\n",
            "Fold 4 / 10\n",
            "Training until validation scores don't improve for 200 rounds.\n",
            "[200]\ttraining's rmse: 11.9745\tvalid_1's rmse: 17.9142\n",
            "[400]\ttraining's rmse: 7.91305\tvalid_1's rmse: 17.454\n",
            "[600]\ttraining's rmse: 5.60273\tvalid_1's rmse: 17.3666\n",
            "[800]\ttraining's rmse: 4.06057\tvalid_1's rmse: 17.2735\n",
            "[1000]\ttraining's rmse: 3.01311\tvalid_1's rmse: 17.2264\n",
            "[1200]\ttraining's rmse: 2.2887\tvalid_1's rmse: 17.183\n",
            "[1400]\ttraining's rmse: 1.75443\tvalid_1's rmse: 17.1585\n",
            "Did not meet early stopping. Best iteration is:\n",
            "[1500]\ttraining's rmse: 1.55188\tvalid_1's rmse: 17.1499\n",
            "RMSE : 17.149869996312795\n",
            "--------------------------------------------------\n",
            "--------------------------------------------------\n",
            "Fold 5 / 10\n",
            "Training until validation scores don't improve for 200 rounds.\n",
            "[200]\ttraining's rmse: 11.9394\tvalid_1's rmse: 18.6145\n",
            "[400]\ttraining's rmse: 7.92836\tvalid_1's rmse: 18.2492\n",
            "[600]\ttraining's rmse: 5.60459\tvalid_1's rmse: 18.1639\n",
            "[800]\ttraining's rmse: 4.079\tvalid_1's rmse: 18.0899\n",
            "[1000]\ttraining's rmse: 3.04895\tvalid_1's rmse: 18.0492\n",
            "[1200]\ttraining's rmse: 2.3394\tvalid_1's rmse: 18.0207\n",
            "[1400]\ttraining's rmse: 1.82733\tvalid_1's rmse: 18.0128\n",
            "Did not meet early stopping. Best iteration is:\n",
            "[1500]\ttraining's rmse: 1.62683\tvalid_1's rmse: 18.013\n",
            "RMSE : 18.013023338539472\n",
            "--------------------------------------------------\n",
            "--------------------------------------------------\n",
            "Fold 6 / 10\n",
            "Training until validation scores don't improve for 200 rounds.\n",
            "[200]\ttraining's rmse: 11.8397\tvalid_1's rmse: 18.3434\n",
            "[400]\ttraining's rmse: 7.82733\tvalid_1's rmse: 18.0583\n",
            "[600]\ttraining's rmse: 5.47077\tvalid_1's rmse: 17.9529\n",
            "[800]\ttraining's rmse: 3.93709\tvalid_1's rmse: 17.9001\n",
            "[1000]\ttraining's rmse: 2.89742\tvalid_1's rmse: 17.8737\n",
            "[1200]\ttraining's rmse: 2.16547\tvalid_1's rmse: 17.8751\n",
            "Early stopping, best iteration is:\n",
            "[1034]\ttraining's rmse: 2.75477\tvalid_1's rmse: 17.864\n",
            "RMSE : 17.86399533879533\n",
            "--------------------------------------------------\n",
            "--------------------------------------------------\n",
            "Fold 7 / 10\n",
            "Training until validation scores don't improve for 200 rounds.\n",
            "[200]\ttraining's rmse: 11.6896\tvalid_1's rmse: 20.5626\n",
            "[400]\ttraining's rmse: 7.6597\tvalid_1's rmse: 20.1269\n",
            "[600]\ttraining's rmse: 5.26285\tvalid_1's rmse: 20.0104\n",
            "[800]\ttraining's rmse: 3.72938\tvalid_1's rmse: 19.9221\n",
            "[1000]\ttraining's rmse: 2.70678\tvalid_1's rmse: 19.9028\n",
            "[1200]\ttraining's rmse: 1.99397\tvalid_1's rmse: 19.8738\n",
            "[1400]\ttraining's rmse: 1.48196\tvalid_1's rmse: 19.8597\n",
            "Did not meet early stopping. Best iteration is:\n",
            "[1500]\ttraining's rmse: 1.2922\tvalid_1's rmse: 19.8532\n",
            "RMSE : 19.85317931525685\n",
            "--------------------------------------------------\n",
            "--------------------------------------------------\n",
            "Fold 8 / 10\n",
            "Training until validation scores don't improve for 200 rounds.\n",
            "[200]\ttraining's rmse: 11.9989\tvalid_1's rmse: 17.8093\n",
            "[400]\ttraining's rmse: 8.01457\tvalid_1's rmse: 17.58\n",
            "[600]\ttraining's rmse: 5.63885\tvalid_1's rmse: 17.5105\n",
            "[800]\ttraining's rmse: 4.14043\tvalid_1's rmse: 17.5065\n",
            "[1000]\ttraining's rmse: 3.10974\tvalid_1's rmse: 17.5114\n",
            "Early stopping, best iteration is:\n",
            "[884]\ttraining's rmse: 3.66214\tvalid_1's rmse: 17.4896\n",
            "RMSE : 17.489624041806028\n",
            "--------------------------------------------------\n",
            "--------------------------------------------------\n",
            "Fold 9 / 10\n",
            "Training until validation scores don't improve for 200 rounds.\n",
            "[200]\ttraining's rmse: 11.5234\tvalid_1's rmse: 26.1717\n",
            "[400]\ttraining's rmse: 7.9134\tvalid_1's rmse: 25.6159\n",
            "[600]\ttraining's rmse: 5.76239\tvalid_1's rmse: 25.3375\n",
            "[800]\ttraining's rmse: 4.32043\tvalid_1's rmse: 25.1059\n",
            "[1000]\ttraining's rmse: 3.30326\tvalid_1's rmse: 24.9156\n",
            "[1200]\ttraining's rmse: 2.57164\tvalid_1's rmse: 24.8671\n",
            "[1400]\ttraining's rmse: 2.01718\tvalid_1's rmse: 24.7963\n",
            "Did not meet early stopping. Best iteration is:\n",
            "[1500]\ttraining's rmse: 1.79029\tvalid_1's rmse: 24.7718\n",
            "RMSE : 24.77176943565278\n",
            "--------------------------------------------------\n",
            "--------------------------------------------------\n",
            "Fold 10 / 10\n",
            "Training until validation scores don't improve for 200 rounds.\n",
            "[200]\ttraining's rmse: 11.945\tvalid_1's rmse: 17.7174\n",
            "[400]\ttraining's rmse: 7.89339\tvalid_1's rmse: 17.3709\n",
            "[600]\ttraining's rmse: 5.54232\tvalid_1's rmse: 17.2821\n",
            "[800]\ttraining's rmse: 4.00796\tvalid_1's rmse: 17.2682\n",
            "[1000]\ttraining's rmse: 2.97951\tvalid_1's rmse: 17.2496\n",
            "[1200]\ttraining's rmse: 2.26145\tvalid_1's rmse: 17.2328\n",
            "Early stopping, best iteration is:\n",
            "[1123]\ttraining's rmse: 2.51139\tvalid_1's rmse: 17.2306\n",
            "RMSE : 17.230567156945025\n",
            "--------------------------------------------------\n",
            "Train RMSE : 19.26722309865873\n"
          ]
        }
      ]
    },
    {
      "cell_type": "markdown",
      "source": [
        "# **Submission**"
      ],
      "metadata": {
        "id": "A-anGAMoEf-v"
      }
    },
    {
      "cell_type": "code",
      "source": [
        "prediction = pred\n",
        "prediction[prediction < 0] = 0\n",
        "\n",
        "submission = pd.DataFrame()\n",
        "submission['Place_ID X Date'] = sub['Place_ID X Date']\n",
        "submission['target'] = prediction\n",
        "submission.to_csv(f\"LGBM_SOLUTION2.csv\", index=False)"
      ],
      "metadata": {
        "id": "AlAjFl0kTxhn"
      },
      "execution_count": 11,
      "outputs": []
    },
    {
      "cell_type": "code",
      "source": [
        "submission.head()"
      ],
      "metadata": {
        "colab": {
          "base_uri": "https://localhost:8080/",
          "height": 206
        },
        "id": "1nD2wn4fZBtd",
        "outputId": "a882cf2f-d2b0-40b7-d62c-20ecc5613d15"
      },
      "execution_count": 12,
      "outputs": [
        {
          "output_type": "execute_result",
          "data": {
            "text/plain": [
              "        Place_ID X Date     target\n",
              "0  0OS9LVX X 2020-01-02  42.565036\n",
              "1  0OS9LVX X 2020-01-03  33.618310\n",
              "2  0OS9LVX X 2020-01-04  29.706889\n",
              "3  0OS9LVX X 2020-01-05  32.216383\n",
              "4  0OS9LVX X 2020-01-06  28.871596"
            ],
            "text/html": [
              "\n",
              "  <div id=\"df-2ffb9e06-29a9-4520-bc4e-363167446c7a\">\n",
              "    <div class=\"colab-df-container\">\n",
              "      <div>\n",
              "<style scoped>\n",
              "    .dataframe tbody tr th:only-of-type {\n",
              "        vertical-align: middle;\n",
              "    }\n",
              "\n",
              "    .dataframe tbody tr th {\n",
              "        vertical-align: top;\n",
              "    }\n",
              "\n",
              "    .dataframe thead th {\n",
              "        text-align: right;\n",
              "    }\n",
              "</style>\n",
              "<table border=\"1\" class=\"dataframe\">\n",
              "  <thead>\n",
              "    <tr style=\"text-align: right;\">\n",
              "      <th></th>\n",
              "      <th>Place_ID X Date</th>\n",
              "      <th>target</th>\n",
              "    </tr>\n",
              "  </thead>\n",
              "  <tbody>\n",
              "    <tr>\n",
              "      <th>0</th>\n",
              "      <td>0OS9LVX X 2020-01-02</td>\n",
              "      <td>42.565036</td>\n",
              "    </tr>\n",
              "    <tr>\n",
              "      <th>1</th>\n",
              "      <td>0OS9LVX X 2020-01-03</td>\n",
              "      <td>33.618310</td>\n",
              "    </tr>\n",
              "    <tr>\n",
              "      <th>2</th>\n",
              "      <td>0OS9LVX X 2020-01-04</td>\n",
              "      <td>29.706889</td>\n",
              "    </tr>\n",
              "    <tr>\n",
              "      <th>3</th>\n",
              "      <td>0OS9LVX X 2020-01-05</td>\n",
              "      <td>32.216383</td>\n",
              "    </tr>\n",
              "    <tr>\n",
              "      <th>4</th>\n",
              "      <td>0OS9LVX X 2020-01-06</td>\n",
              "      <td>28.871596</td>\n",
              "    </tr>\n",
              "  </tbody>\n",
              "</table>\n",
              "</div>\n",
              "      <button class=\"colab-df-convert\" onclick=\"convertToInteractive('df-2ffb9e06-29a9-4520-bc4e-363167446c7a')\"\n",
              "              title=\"Convert this dataframe to an interactive table.\"\n",
              "              style=\"display:none;\">\n",
              "        \n",
              "  <svg xmlns=\"http://www.w3.org/2000/svg\" height=\"24px\"viewBox=\"0 0 24 24\"\n",
              "       width=\"24px\">\n",
              "    <path d=\"M0 0h24v24H0V0z\" fill=\"none\"/>\n",
              "    <path d=\"M18.56 5.44l.94 2.06.94-2.06 2.06-.94-2.06-.94-.94-2.06-.94 2.06-2.06.94zm-11 1L8.5 8.5l.94-2.06 2.06-.94-2.06-.94L8.5 2.5l-.94 2.06-2.06.94zm10 10l.94 2.06.94-2.06 2.06-.94-2.06-.94-.94-2.06-.94 2.06-2.06.94z\"/><path d=\"M17.41 7.96l-1.37-1.37c-.4-.4-.92-.59-1.43-.59-.52 0-1.04.2-1.43.59L10.3 9.45l-7.72 7.72c-.78.78-.78 2.05 0 2.83L4 21.41c.39.39.9.59 1.41.59.51 0 1.02-.2 1.41-.59l7.78-7.78 2.81-2.81c.8-.78.8-2.07 0-2.86zM5.41 20L4 18.59l7.72-7.72 1.47 1.35L5.41 20z\"/>\n",
              "  </svg>\n",
              "      </button>\n",
              "      \n",
              "  <style>\n",
              "    .colab-df-container {\n",
              "      display:flex;\n",
              "      flex-wrap:wrap;\n",
              "      gap: 12px;\n",
              "    }\n",
              "\n",
              "    .colab-df-convert {\n",
              "      background-color: #E8F0FE;\n",
              "      border: none;\n",
              "      border-radius: 50%;\n",
              "      cursor: pointer;\n",
              "      display: none;\n",
              "      fill: #1967D2;\n",
              "      height: 32px;\n",
              "      padding: 0 0 0 0;\n",
              "      width: 32px;\n",
              "    }\n",
              "\n",
              "    .colab-df-convert:hover {\n",
              "      background-color: #E2EBFA;\n",
              "      box-shadow: 0px 1px 2px rgba(60, 64, 67, 0.3), 0px 1px 3px 1px rgba(60, 64, 67, 0.15);\n",
              "      fill: #174EA6;\n",
              "    }\n",
              "\n",
              "    [theme=dark] .colab-df-convert {\n",
              "      background-color: #3B4455;\n",
              "      fill: #D2E3FC;\n",
              "    }\n",
              "\n",
              "    [theme=dark] .colab-df-convert:hover {\n",
              "      background-color: #434B5C;\n",
              "      box-shadow: 0px 1px 3px 1px rgba(0, 0, 0, 0.15);\n",
              "      filter: drop-shadow(0px 1px 2px rgba(0, 0, 0, 0.3));\n",
              "      fill: #FFFFFF;\n",
              "    }\n",
              "  </style>\n",
              "\n",
              "      <script>\n",
              "        const buttonEl =\n",
              "          document.querySelector('#df-2ffb9e06-29a9-4520-bc4e-363167446c7a button.colab-df-convert');\n",
              "        buttonEl.style.display =\n",
              "          google.colab.kernel.accessAllowed ? 'block' : 'none';\n",
              "\n",
              "        async function convertToInteractive(key) {\n",
              "          const element = document.querySelector('#df-2ffb9e06-29a9-4520-bc4e-363167446c7a');\n",
              "          const dataTable =\n",
              "            await google.colab.kernel.invokeFunction('convertToInteractive',\n",
              "                                                     [key], {});\n",
              "          if (!dataTable) return;\n",
              "\n",
              "          const docLinkHtml = 'Like what you see? Visit the ' +\n",
              "            '<a target=\"_blank\" href=https://colab.research.google.com/notebooks/data_table.ipynb>data table notebook</a>'\n",
              "            + ' to learn more about interactive tables.';\n",
              "          element.innerHTML = '';\n",
              "          dataTable['output_type'] = 'display_data';\n",
              "          await google.colab.output.renderOutput(dataTable, element);\n",
              "          const docLink = document.createElement('div');\n",
              "          docLink.innerHTML = docLinkHtml;\n",
              "          element.appendChild(docLink);\n",
              "        }\n",
              "      </script>\n",
              "    </div>\n",
              "  </div>\n",
              "  "
            ]
          },
          "metadata": {},
          "execution_count": 12
        }
      ]
    },
    {
      "cell_type": "code",
      "source": [],
      "metadata": {
        "id": "mVbUcN1JZHFN"
      },
      "execution_count": 12,
      "outputs": []
    }
  ]
}